{
 "cells": [
  {
   "cell_type": "code",
   "execution_count": 1,
   "metadata": {},
   "outputs": [],
   "source": [
    "from xml.dom import minidom"
   ]
  },
  {
   "cell_type": "code",
   "execution_count": 30,
   "metadata": {},
   "outputs": [
    {
     "name": "stdout",
     "output_type": "stream",
     "text": [
      "#document\n",
      "svg\n"
     ]
    }
   ],
   "source": [
    "mydoc = minidom.parse('example.svg')\n",
    "print(mydoc.nodeName)\n",
    "print(mydoc.firstChild.tagName)\n",
    "# print(mydoc.getElementsByTagName('title'))"
   ]
  },
  {
   "cell_type": "code",
   "execution_count": 31,
   "metadata": {},
   "outputs": [
    {
     "name": "stdout",
     "output_type": "stream",
     "text": [
      "64\n",
      "<DOM Element: g at 0x7fb68c4ab210>\n"
     ]
    }
   ],
   "source": [
    "items = mydoc.getElementsByTagName('g')\n",
    "print(len(items))\n",
    "print(items[0])"
   ]
  },
  {
   "cell_type": "code",
   "execution_count": 33,
   "metadata": {},
   "outputs": [
    {
     "name": "stdout",
     "output_type": "stream",
     "text": [
      "\n",
      "All attributes:\n",
      "#bfbfbf\n",
      "#bfbfbf\n",
      "#bfbfbf\n",
      "#bfbfbf\n",
      "#bfbfbf\n",
      "#bfbfbf\n",
      "#bfbfbf\n",
      "#bfbfbf\n",
      "#bfbfbf\n",
      "#bfbfbf\n",
      "#bfbfbf\n",
      "#bfbfbf\n",
      "#bfbfbf\n",
      "#bfbfbf\n",
      "#bfbfbf\n",
      "#bfbfbf\n",
      "#bfbfbf\n",
      "#bfbfbf\n",
      "#bfbfbf\n",
      "#bfbfbf\n",
      "#bfbfbf\n",
      "#bfbfbf\n",
      "#bfbfbf\n",
      "#bfbfbf\n",
      "#bfbfbf\n",
      "#bfbfbf\n",
      "#bfbfbf\n",
      "#bfbfbf\n",
      "#bfbfbf\n",
      "#bfbfbf\n",
      "#bfbfbf\n",
      "#bfbfbf\n",
      "#bfbfbf\n",
      "#bfbfbf\n",
      "#fff3a8\n",
      "\n",
      "#bfbfbf\n",
      "#bfbfbf\n",
      "#000000\n",
      "#000000\n",
      "#000000\n",
      "#000000\n",
      "#000000\n",
      "#000000\n",
      "#000000\n",
      "#000000\n",
      "#000000\n",
      "#000000\n",
      "#000000\n",
      "#000000\n",
      "#000000\n",
      "#000000\n",
      "#000000\n",
      "#000000\n",
      "#000000\n",
      "#000000\n",
      "#000000\n",
      "#000000\n",
      "#000000\n",
      "#000000\n",
      "#000000\n",
      "#000000\n",
      "#000000\n",
      "#000000\n"
     ]
    }
   ],
   "source": [
    "# all item attributes\n",
    "print('\\nAll attributes:')\n",
    "for elem in items:\n",
    "    path = elem.getElementsByTagName('path')\n",
    "    print(path[0].getAttribute(\"stroke\"))"
   ]
  },
  {
   "cell_type": "code",
   "execution_count": null,
   "metadata": {},
   "outputs": [],
   "source": []
  }
 ],
 "metadata": {
  "kernelspec": {
   "display_name": "Python 3",
   "language": "python",
   "name": "python3"
  },
  "language_info": {
   "codemirror_mode": {
    "name": "ipython",
    "version": 3
   },
   "file_extension": ".py",
   "mimetype": "text/x-python",
   "name": "python",
   "nbconvert_exporter": "python",
   "pygments_lexer": "ipython3",
   "version": "3.6.9"
  }
 },
 "nbformat": 4,
 "nbformat_minor": 4
}
