{
 "cells": [
  {
   "cell_type": "code",
   "execution_count": 2,
   "metadata": {},
   "outputs": [
    {
     "name": "stdout",
     "output_type": "stream",
     "text": [
      "Requirement already satisfied: reportlab in /usr/local/anaconda3/lib/python3.7/site-packages (3.5.32)\n",
      "Requirement already satisfied: svglib in /usr/local/anaconda3/lib/python3.7/site-packages (0.9.3)\n",
      "Requirement already satisfied: PyPDF2 in /usr/local/anaconda3/lib/python3.7/site-packages (1.26.0)\n",
      "Requirement already satisfied: img2pdf in /usr/local/anaconda3/lib/python3.7/site-packages (0.3.3)\n",
      "Requirement already satisfied: pillow in /usr/local/anaconda3/lib/python3.7/site-packages (6.2.0)\n",
      "Requirement already satisfied: tinycss2>=0.6.0 in /usr/local/anaconda3/lib/python3.7/site-packages (from svglib) (1.0.2)\n",
      "Requirement already satisfied: cssselect2>=0.2.0 in /usr/local/anaconda3/lib/python3.7/site-packages (from svglib) (0.2.2)\n",
      "Requirement already satisfied: lxml in /usr/local/anaconda3/lib/python3.7/site-packages (from svglib) (4.4.1)\n",
      "Requirement already satisfied: webencodings>=0.4 in /usr/local/anaconda3/lib/python3.7/site-packages (from tinycss2>=0.6.0->svglib) (0.5.1)\n",
      "Requirement already satisfied: setuptools>=39.2.0 in /usr/local/anaconda3/lib/python3.7/site-packages (from tinycss2>=0.6.0->svglib) (41.4.0)\n"
     ]
    }
   ],
   "source": [
    "# Install required packages\n",
    "import sys\n",
    "import os\n",
    "import time\n",
    "import subprocess\n",
    "!{sys.executable} -m pip install reportlab svglib PyPDF2 img2pdf pillow\n",
    "\n",
    "# Load packages\n",
    "from xml.dom import minidom\n",
    "from reportlab.graphics import renderPDF, renderPM\n",
    "from svglib.svglib import svg2rlg\n",
    "from pathlib import Path\n",
    "from PyPDF2 import PdfFileReader, PdfFileWriter\n",
    "from PIL import Image\n",
    "import img2pdf"
   ]
  },
  {
   "cell_type": "code",
   "execution_count": 15,
   "metadata": {},
   "outputs": [],
   "source": [
    "class main_process:\n",
    "    def __init__(self, color, output_path, quality=5):\n",
    "        self.color = color\n",
    "        self.output_path = output_path\n",
    "        self.original_size = 0\n",
    "        self.final_size = 0\n",
    "        self.quality = quality # 0 to 100\n",
    "    \n",
    "    def edit_and_save(self, file, index):    \n",
    "        # Get XML doc\n",
    "        mydoc = minidom.parse(file)\n",
    "\n",
    "        # Get layers\n",
    "        items = mydoc.getElementsByTagName('g')\n",
    "\n",
    "        # Update stroke attribute color in each layer of the doc\n",
    "        for elem in items:\n",
    "            path = elem.getElementsByTagName('path')\n",
    "            path[0].setAttribute('stroke', self.color)\n",
    "\n",
    "        # Save XML file\n",
    "        file_handle = open(\"new.svg\",\"w\")\n",
    "        file_handle.write(mydoc.toxml())\n",
    "        drawing = svg2rlg(\"new.svg\")\n",
    "        \n",
    "        # Save and reduce PNG\n",
    "        renderPM.drawToFile(drawing, \"new.png\", \"PNG\")\n",
    "        \n",
    "        # Apply compression\n",
    "        self.reduce_size()\n",
    "\n",
    "        # Save PDF file\n",
    "        file_handle = open(self.output_path + \"/\" + str(index) + \".pdf\", \"wb\")\n",
    "        file_handle.write(img2pdf.convert(\"resized.jpg\"))\n",
    "        # renderPDF.drawToFile(drawing, self.output_path + \"/\" + str(index) + \".pdf\")\n",
    "    \n",
    "    def reduce_size(self):\n",
    "        self.original_size += os.stat('new.png').st_size\n",
    "        picture = Image.open('new.png')\n",
    "        dim = picture.size\n",
    "        picture.save(\"resized.jpg\",\"JPEG\",optimize=True,quality=self.quality) \n",
    "        self.final_size += os.stat(os.path.join(os.getcwd(),\"resized.jpg\")).st_size\n",
    "            \n",
    "    def calc_compression(self):\n",
    "        percent = (self.original_size-self.final_size)/float(self.original_size)*100\n",
    "        print(\"File compressed from \" + str(self.original_size) + \" to \" + str(self.final_size) + \" or \" + str(percent) + \" %\")\n",
    "             "
   ]
  },
  {
   "cell_type": "code",
   "execution_count": 4,
   "metadata": {},
   "outputs": [],
   "source": [
    "class measure_time:\n",
    "    def __init__(self):\n",
    "        if sys.platform == 'win32':\n",
    "            # On Windows, the best timer is time.clock\n",
    "            self.default_timer = time.clock\n",
    "        else:\n",
    "            # On most other platforms the best timer is time.time\n",
    "            self.default_timer = time.time\n",
    "    \n",
    "    def start(self):\n",
    "        self.ini = self.default_timer()\n",
    "    \n",
    "    def end(self, pages):\n",
    "        print(\"Editor processed \" + str(pages) + \" pages in \" + str(self.default_timer() - self.ini) + \" seconds\" )\n",
    "        "
   ]
  },
  {
   "cell_type": "code",
   "execution_count": 5,
   "metadata": {},
   "outputs": [],
   "source": [
    "def get_index(x, start_char, end_char):    \n",
    "    ini = x.rfind(start_char)\n",
    "    end = x.rfind(end_char)\n",
    "    y = x[ini+1:end]\n",
    "    return y"
   ]
  },
  {
   "cell_type": "code",
   "execution_count": 6,
   "metadata": {},
   "outputs": [],
   "source": [
    "def pdf_cat(output_path, input_paths):\n",
    "    pdf_writer = PdfFileWriter()\n",
    " \n",
    "    for path in input_paths:\n",
    "        pdf_reader = PdfFileReader(path)\n",
    "        for index in range(pdf_reader.getNumPages()):\n",
    "            page = pdf_reader.getPage(index)\n",
    "            pdf_writer.addPage(page)\n",
    " \n",
    "    with open(output_path, 'wb') as fh:\n",
    "        pdf_writer.write(fh)"
   ]
  },
  {
   "cell_type": "code",
   "execution_count": 7,
   "metadata": {},
   "outputs": [],
   "source": [
    "def sort_paths(x, count):\n",
    "    l = [None] * count\n",
    "    for path in x:\n",
    "        n = get_index(str(path), \"/\", \".\")\n",
    "        if n.isdigit():\n",
    "            l[int(n)-1] = str(path)\n",
    "        else:\n",
    "            print(\"-- Warning: \" + n + \" is not valid index\")\n",
    "    return l"
   ]
  },
  {
   "cell_type": "code",
   "execution_count": null,
   "metadata": {},
   "outputs": [],
   "source": [
    "\n",
    "\n"
   ]
  },
  {
   "cell_type": "code",
   "execution_count": 17,
   "metadata": {},
   "outputs": [
    {
     "name": "stdout",
     "output_type": "stream",
     "text": [
      "Editing Remarkable output started!\n",
      "-- Warning: 6-checkpoint is not valid index\n",
      "-- Warning: 1-checkpoint is not valid index\n",
      "-- Warning: 10-checkpoint is not valid index\n",
      "-- Warning: 100-checkpoint is not valid index\n",
      "376 PDFs generated, now compiling final PDF\n",
      "-- Warning: 5-checkpoint is not valid index\n",
      "-- Warning: 6-checkpoint is not valid index\n",
      "-- Warning: 1-checkpoint is not valid index\n",
      "Editor processed 376 pages in 115.65151381492615 seconds\n",
      "File compressed from 121298151 to 20128495 or 83.40576930970695 %\n",
      "Done!\n"
     ]
    }
   ],
   "source": [
    "# Configuration defaults (Change according to your needs)\n",
    "stroke_color = \"#FF0000\" # default red\n",
    "inputs_path = \"test_files\"\n",
    "outputs_path = \"results\"\n",
    "output_pdf_name = \"final_result.pdf\"\n",
    "quality = 5 # 5 is the default value\n",
    "\n",
    "# Create timer object to measure elapsed time\n",
    "timer = measure_time()\n",
    "\n",
    "# Main process\n",
    "timer.start()\n",
    "print(\"Editing Remarkable output started!\")\n",
    "\n",
    "pathlist = Path(inputs_path).glob('**/*.svg')\n",
    "num_of_pages = 0\n",
    "update_inputs = main_process(stroke_color, outputs_path, quality)\n",
    "for path in pathlist:\n",
    "    index = get_index(str(path), \" \", \".\")\n",
    "    if index.isdigit():\n",
    "        num_of_pages = num_of_pages + 1\n",
    "        update_inputs.edit_and_save(str(path), index)\n",
    "    else:\n",
    "        print(\"-- Warning: \" + index + \" is not valid index\")\n",
    "\n",
    "print(str(num_of_pages) + \" PDFs generated, now compiling final PDF\")\n",
    "paths = Path(outputs_path).glob('**/*.pdf')\n",
    "pdf_cat(output_pdf_name, sort_paths(paths, num_of_pages))\n",
    "timer.end(num_of_pages)\n",
    "update_inputs.calc_compression()\n",
    "print(\"Done!\")"
   ]
  },
  {
   "cell_type": "code",
   "execution_count": null,
   "metadata": {},
   "outputs": [],
   "source": []
  },
  {
   "cell_type": "code",
   "execution_count": null,
   "metadata": {},
   "outputs": [],
   "source": []
  },
  {
   "cell_type": "code",
   "execution_count": null,
   "metadata": {},
   "outputs": [],
   "source": []
  },
  {
   "cell_type": "code",
   "execution_count": null,
   "metadata": {},
   "outputs": [],
   "source": []
  },
  {
   "cell_type": "code",
   "execution_count": null,
   "metadata": {},
   "outputs": [],
   "source": []
  },
  {
   "cell_type": "code",
   "execution_count": null,
   "metadata": {},
   "outputs": [],
   "source": []
  }
 ],
 "metadata": {
  "kernelspec": {
   "display_name": "Python 3",
   "language": "python",
   "name": "python3"
  },
  "language_info": {
   "codemirror_mode": {
    "name": "ipython",
    "version": 3
   },
   "file_extension": ".py",
   "mimetype": "text/x-python",
   "name": "python",
   "nbconvert_exporter": "python",
   "pygments_lexer": "ipython3",
   "version": "3.7.4"
  }
 },
 "nbformat": 4,
 "nbformat_minor": 4
}